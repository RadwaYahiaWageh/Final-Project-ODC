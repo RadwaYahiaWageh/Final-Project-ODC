{
  "nbformat": 4,
  "nbformat_minor": 0,
  "metadata": {
    "colab": {
      "provenance": [],
      "collapsed_sections": []
    },
    "kernelspec": {
      "name": "python3",
      "display_name": "Python 3"
    },
    "language_info": {
      "name": "python"
    }
  },
  "cells": [
    {
      "cell_type": "code",
      "execution_count": 103,
      "metadata": {
        "id": "cv2zuC4qSgSc"
      },
      "outputs": [],
      "source": [
        "import numpy as np \n",
        "import pandas as pd\n",
        "import matplotlib.pyplot as plt\n",
        "import sklearn\n",
        "\n",
        "from sklearn.model_selection import train_test_split\n",
        "from sklearn.naive_bayes import GaussianNB\n",
        "from sklearn.metrics import confusion_matrix\n",
        "from sklearn.linear_model import LogisticRegression\n",
        "from sklearn.metrics import accuracy_score \n",
        "from sklearn.preprocessing import FunctionTransformer\n",
        "from sklearn.naive_bayes import BernoulliNB\n",
        "from sklearn.linear_model import LogisticRegression\n",
        "from sklearn.svm import SVC\n",
        "import seaborn as sns"
      ]
    },
    {
      "cell_type": "code",
      "source": [
        "dataset = pd.read_csv('Social_Network_Ads.csv')\n",
        "print(dataset)"
      ],
      "metadata": {
        "colab": {
          "base_uri": "https://localhost:8080/"
        },
        "id": "o9Ug6gKBSohz",
        "outputId": "2e35b760-2e76-429e-e478-9f645f479217"
      },
      "execution_count": 104,
      "outputs": [
        {
          "output_type": "stream",
          "name": "stdout",
          "text": [
            "      User ID  Gender  Age  EstimatedSalary  Purchased\n",
            "0    15624510    Male   19            19000          0\n",
            "1    15810944    Male   35            20000          0\n",
            "2    15668575  Female   26            43000          0\n",
            "3    15603246  Female   27            57000          0\n",
            "4    15804002    Male   19            76000          0\n",
            "..        ...     ...  ...              ...        ...\n",
            "395  15691863  Female   46            41000          1\n",
            "396  15706071    Male   51            23000          1\n",
            "397  15654296  Female   50            20000          1\n",
            "398  15755018    Male   36            33000          0\n",
            "399  15594041  Female   49            36000          1\n",
            "\n",
            "[400 rows x 5 columns]\n"
          ]
        }
      ]
    },
    {
      "cell_type": "code",
      "source": [
        "dataset.isnull().sum()"
      ],
      "metadata": {
        "colab": {
          "base_uri": "https://localhost:8080/"
        },
        "id": "QGNZvjfATlo-",
        "outputId": "25b97a20-e002-4dc5-c9c5-8359192c2767"
      },
      "execution_count": 105,
      "outputs": [
        {
          "output_type": "execute_result",
          "data": {
            "text/plain": [
              "User ID            0\n",
              "Gender             0\n",
              "Age                0\n",
              "EstimatedSalary    0\n",
              "Purchased          0\n",
              "dtype: int64"
            ]
          },
          "metadata": {},
          "execution_count": 105
        }
      ]
    },
    {
      "cell_type": "code",
      "source": [
        "x = np.random.rand(500)\n",
        "x[:5]"
      ],
      "metadata": {
        "colab": {
          "base_uri": "https://localhost:8080/"
        },
        "id": "MXGuvK1Oj43N",
        "outputId": "26db0db7-56f6-45ab-93cf-32f0e5aa1646"
      },
      "execution_count": 106,
      "outputs": [
        {
          "output_type": "execute_result",
          "data": {
            "text/plain": [
              "array([0.10889303, 0.27254029, 0.9178035 , 0.48122382, 0.24205616])"
            ]
          },
          "metadata": {},
          "execution_count": 106
        }
      ]
    },
    {
      "cell_type": "code",
      "source": [
        "noise = np.random.randn(500)/4\n",
        "noise[:5]"
      ],
      "metadata": {
        "colab": {
          "base_uri": "https://localhost:8080/"
        },
        "id": "G7Kd7nlrkL-s",
        "outputId": "df9c6f12-639b-4333-9297-11e4a2a34cf9"
      },
      "execution_count": 107,
      "outputs": [
        {
          "output_type": "execute_result",
          "data": {
            "text/plain": [
              "array([-0.18599745,  0.00621323, -0.17875654,  0.15490529, -0.08849019])"
            ]
          },
          "metadata": {},
          "execution_count": 107
        }
      ]
    },
    {
      "cell_type": "code",
      "source": [
        "m = 2\n",
        "c = 3 "
      ],
      "metadata": {
        "id": "aoA6L4uGkWPS"
      },
      "execution_count": 108,
      "outputs": []
    },
    {
      "cell_type": "code",
      "source": [
        "# y = mx + c\n",
        "y = x * m + c + noise\n",
        "y[:5]"
      ],
      "metadata": {
        "colab": {
          "base_uri": "https://localhost:8080/"
        },
        "id": "Ta_ff7QtkgTi",
        "outputId": "c408d6c2-1ae5-4fbc-861e-9a9b47fe4561"
      },
      "execution_count": 109,
      "outputs": [
        {
          "output_type": "execute_result",
          "data": {
            "text/plain": [
              "array([3.03178862, 3.55129381, 4.65685046, 4.11735292, 3.39562214])"
            ]
          },
          "metadata": {},
          "execution_count": 109
        }
      ]
    },
    {
      "cell_type": "code",
      "source": [
        "plt.scatter(x,y)\n",
        "plt.title(\"Data\")\n",
        "plt.xlabel('x')\n",
        "plt.ylabel('y')\n",
        "plt.show()"
      ],
      "metadata": {
        "colab": {
          "base_uri": "https://localhost:8080/",
          "height": 295
        },
        "id": "nH4FqEmYkow6",
        "outputId": "2dd349e1-3400-4e7f-c6ea-af4d83891715"
      },
      "execution_count": 110,
      "outputs": [
        {
          "output_type": "display_data",
          "data": {
            "text/plain": [
              "<Figure size 432x288 with 1 Axes>"
            ],
            "image/png": "[encoded data removed]"
          },
          "metadata": {
            "needs_background": "light"
          }
        }
      ]
    },
    {
      "cell_type": "code",
      "source": [
        "X = dataset.iloc[:, :-1].values\n",
        "y = dataset.iloc[:, -1].values\n",
        "X_train, X_test, y_train, y_test = train_test_split(X,y, test_size = 0.2)\n",
        "X_train"
      ],
      "metadata": {
        "colab": {
          "base_uri": "https://localhost:8080/"
        },
        "id": "s2cF8t4HSojt",
        "outputId": "23cab25c-4d20-4c3d-ba18-42837171a7d7"
      },
      "execution_count": 111,
      "outputs": [
        {
          "output_type": "execute_result",
          "data": {
            "text/plain": [
              "array([[15678168, 'Female', 41, 51000],\n",
              "       [15631070, 'Female', 37, 62000],\n",
              "       [15736760, 'Female', 47, 49000],\n",
              "       ...,\n",
              "       [15757632, 'Female', 39, 59000],\n",
              "       [15595324, 'Female', 31, 68000],\n",
              "       [15756932, 'Male', 25, 80000]], dtype=object)"
            ]
          },
          "metadata": {},
          "execution_count": 111
        }
      ]
    },
    {
      "cell_type": "code",
      "source": [
        "from sklearn.preprocessing import LabelEncoder\n",
        "encoder=LabelEncoder()\n",
        "X_train[:,1] = encoder.fit_transform(X_train[:,1])\n",
        "X_test[:,1]=encoder.transform(X_test[:,1] )\n",
        "X_train"
      ],
      "metadata": {
        "colab": {
          "base_uri": "https://localhost:8080/"
        },
        "id": "J9dQ8HI3Somp",
        "outputId": "965e3aee-bad4-4b03-9adb-af206bfc1564"
      },
      "execution_count": 112,
      "outputs": [
        {
          "output_type": "execute_result",
          "data": {
            "text/plain": [
              "array([[15678168, 0, 41, 51000],\n",
              "       [15631070, 0, 37, 62000],\n",
              "       [15736760, 0, 47, 49000],\n",
              "       ...,\n",
              "       [15757632, 0, 39, 59000],\n",
              "       [15595324, 0, 31, 68000],\n",
              "       [15756932, 1, 25, 80000]], dtype=object)"
            ]
          },
          "metadata": {},
          "execution_count": 112
        }
      ]
    },
    {
      "cell_type": "code",
      "source": [
        "clf = LogisticRegression()\n",
        "clf.fit(X_train, y_train)"
      ],
      "metadata": {
        "colab": {
          "base_uri": "https://localhost:8080/"
        },
        "id": "0LPMQzVFS9aj",
        "outputId": "4d9caabb-a31a-4f13-c3ed-c875b129ad43"
      },
      "execution_count": 113,
      "outputs": [
        {
          "output_type": "execute_result",
          "data": {
            "text/plain": [
              "LogisticRegression()"
            ]
          },
          "metadata": {},
          "execution_count": 113
        }
      ]
    },
    {
      "cell_type": "code",
      "source": [
        "y_pred_train = clf.predict(X_train)\n",
        "y_pred_test = clf.predict(X_test)\n",
        "\n",
        "print('Accuracy score for train : ', accuracy_score(y_train, y_pred_train)*100)\n",
        "print('Accuracy score for test : ', accuracy_score(y_test, y_pred_test)*100)"
      ],
      "metadata": {
        "colab": {
          "base_uri": "https://localhost:8080/"
        },
        "id": "4uqEUlSFTB7e",
        "outputId": "4c627357-2919-4fdd-f7eb-f0d46aba8956"
      },
      "execution_count": 114,
      "outputs": [
        {
          "output_type": "stream",
          "name": "stdout",
          "text": [
            "Accuracy score for train :  77.5\n",
            "Accuracy score for test :  76.25\n"
          ]
        }
      ]
    },
    {
      "cell_type": "code",
      "source": [
        "from sklearn.metrics import plot_confusion_matrix\n",
        "import matplotlib.pyplot as plt \n",
        "\n",
        "disp = plot_confusion_matrix(clf, X_test, y_test,\n",
        "                              display_labels=['Yes','No'],\n",
        "                              cmap=plt.cm.Blues)"
      ],
      "metadata": {
        "colab": {
          "base_uri": "https://localhost:8080/",
          "height": 334
        },
        "id": "YkJMZMuOTKI1",
        "outputId": "4f305807-66d5-4086-ea9b-d7bf811c1879"
      },
      "execution_count": 115,
      "outputs": [
        {
          "output_type": "stream",
          "name": "stderr",
          "text": [
            "/usr/local/lib/python3.7/dist-packages/sklearn/utils/deprecation.py:87: FutureWarning: Function plot_confusion_matrix is deprecated; Function `plot_confusion_matrix` is deprecated in 1.0 and will be removed in 1.2. Use one of the class methods: ConfusionMatrixDisplay.from_predictions or ConfusionMatrixDisplay.from_estimator.\n",
            "  warnings.warn(msg, category=FutureWarning)\n"
          ]
        },
        {
          "output_type": "display_data",
          "data": {
            "text/plain": [
              "<Figure size 432x288 with 2 Axes>"
            ],
            "image/png": "[encoded data removed]"
          },
          "metadata": {
            "needs_background": "light"
          }
        }
      ]
    },
    {
      "cell_type": "code",
      "source": [
        "print(classification_report(y_test, y_pred_test))"
      ],
      "metadata": {
        "colab": {
          "base_uri": "https://localhost:8080/"
        },
        "id": "fd9lc8H8TMFc",
        "outputId": "6c27aa8e-3c09-412c-8317-2501fda05703"
      },
      "execution_count": 116,
      "outputs": [
        {
          "output_type": "stream",
          "name": "stdout",
          "text": [
            "              precision    recall  f1-score   support\n",
            "\n",
            "           0       0.73      0.96      0.83        48\n",
            "           1       0.88      0.47      0.61        32\n",
            "\n",
            "    accuracy                           0.76        80\n",
            "   macro avg       0.81      0.71      0.72        80\n",
            "weighted avg       0.79      0.76      0.74        80\n",
            "\n"
          ]
        }
      ]
    },
    {
      "cell_type": "code",
      "source": [
        "GaussianNBModel = GaussianNB()\n",
        "GaussianNBModel.fit(X_train, y_train)"
      ],
      "metadata": {
        "colab": {
          "base_uri": "https://localhost:8080/"
        },
        "id": "GGRlMAg-TeUq",
        "outputId": "870e058f-bcd5-4470-c77e-164e7e433ee3"
      },
      "execution_count": 117,
      "outputs": [
        {
          "output_type": "execute_result",
          "data": {
            "text/plain": [
              "GaussianNB()"
            ]
          },
          "metadata": {},
          "execution_count": 117
        }
      ]
    },
    {
      "cell_type": "code",
      "source": [
        "print('GaussianNBModel Train  : ' , GaussianNBModel.score(X_train, y_train))\n",
        "print('GaussianNBModel Test : ' , GaussianNBModel.score(X_test, y_test))"
      ],
      "metadata": {
        "colab": {
          "base_uri": "https://localhost:8080/"
        },
        "id": "x5iHzbwBT6lN",
        "outputId": "f69e74ee-a94a-4963-e9bf-c27a16a4238f"
      },
      "execution_count": 118,
      "outputs": [
        {
          "output_type": "stream",
          "name": "stdout",
          "text": [
            "GaussianNBModel Train  :  0.88125\n",
            "GaussianNBModel Test :  0.8875\n"
          ]
        }
      ]
    },
    {
      "cell_type": "code",
      "source": [
        "y_pred = GaussianNBModel.predict(X_test)\n",
        "y_pred_prob = GaussianNBModel.predict_proba(X_test)\n",
        "print('Predicted Value is : ' , y_pred[:10])\n",
        "print('Prediction Probabilities Value is : ' , y_pred_prob[:10])"
      ],
      "metadata": {
        "colab": {
          "base_uri": "https://localhost:8080/"
        },
        "id": "-9PhwqOSUann",
        "outputId": "6585a50f-b87d-4af9-d7ea-19b79207a9ce"
      },
      "execution_count": 119,
      "outputs": [
        {
          "output_type": "stream",
          "name": "stdout",
          "text": [
            "Predicted Value is :  [0 0 1 0 0 0 0 1 0 1]\n",
            "Prediction Probabilities Value is :  [[0.63373748 0.36626252]\n",
            " [0.99000218 0.00999782]\n",
            " [0.04948256 0.95051744]\n",
            " [0.76140609 0.23859391]\n",
            " [0.53301933 0.46698067]\n",
            " [0.91974047 0.08025953]\n",
            " [0.90432922 0.09567078]\n",
            " [0.10910922 0.89089078]\n",
            " [0.69831909 0.30168091]\n",
            " [0.04432502 0.95567498]]\n"
          ]
        }
      ]
    },
    {
      "cell_type": "code",
      "source": [
        "cm = confusion_matrix(y_test, y_pred)\n",
        "print('Confusion Matrix is : \\n', cm)"
      ],
      "metadata": {
        "colab": {
          "base_uri": "https://localhost:8080/"
        },
        "id": "8Pv-g86iUnnD",
        "outputId": "4ac81bac-d7bc-46ac-a4fb-d68181b1bd82"
      },
      "execution_count": 120,
      "outputs": [
        {
          "output_type": "stream",
          "name": "stdout",
          "text": [
            "Confusion Matrix is : \n",
            " [[46  2]\n",
            " [ 7 25]]\n"
          ]
        }
      ]
    },
    {
      "cell_type": "code",
      "source": [
        "sns.heatmap(cm , center = True)\n",
        "plt.show()"
      ],
      "metadata": {
        "colab": {
          "base_uri": "https://localhost:8080/",
          "height": 265
        },
        "id": "i8To6KeSU0oZ",
        "outputId": "e7dc3a79-5bd0-4993-f32f-f699e0613366"
      },
      "execution_count": 121,
      "outputs": [
        {
          "output_type": "display_data",
          "data": {
            "text/plain": [
              "<Figure size 432x288 with 2 Axes>"
            ],
            "image/png": "[encoded data removed]"
          },
          "metadata": {
            "needs_background": "light"
          }
        }
      ]
    },
    {
      "cell_type": "code",
      "source": [
        "css_test = accuracy_score(y_test, y_pred)\n",
        "print(css_test)"
      ],
      "metadata": {
        "colab": {
          "base_uri": "https://localhost:8080/"
        },
        "id": "BRrF5yIMU7sq",
        "outputId": "e0b34669-4832-4ae2-e02a-e8c380f38cf9"
      },
      "execution_count": 122,
      "outputs": [
        {
          "output_type": "stream",
          "name": "stdout",
          "text": [
            "0.8875\n"
          ]
        }
      ]
    },
    {
      "cell_type": "code",
      "source": [
        "from sklearn.naive_bayes import BernoulliNB\n",
        "BernoulliNBModel = BernoulliNB(alpha=1,binarize=1)\n",
        "BernoulliNBModel.fit(X_train, y_train)"
      ],
      "metadata": {
        "colab": {
          "base_uri": "https://localhost:8080/"
        },
        "id": "sjHwCblaVLs1",
        "outputId": "01799e17-4a5d-43e8-8780-351cd42055f9"
      },
      "execution_count": 123,
      "outputs": [
        {
          "output_type": "execute_result",
          "data": {
            "text/plain": [
              "BernoulliNB(alpha=1, binarize=1)"
            ]
          },
          "metadata": {},
          "execution_count": 123
        }
      ]
    },
    {
      "cell_type": "code",
      "source": [
        "print('BernoulliNBModel Train is : ' , BernoulliNBModel.score(X_train, y_train))\n",
        "print('BernoulliNBModel Test is : ' , BernoulliNBModel.score(X_test, y_test))"
      ],
      "metadata": {
        "colab": {
          "base_uri": "https://localhost:8080/"
        },
        "id": "hTWlTHJ_VSyz",
        "outputId": "12b5d5ca-8612-4e31-9bcc-c0c35e7c8e72"
      },
      "execution_count": 124,
      "outputs": [
        {
          "output_type": "stream",
          "name": "stdout",
          "text": [
            "BernoulliNBModel Train is :  0.653125\n",
            "BernoulliNBModel Test is :  0.6\n"
          ]
        }
      ]
    },
    {
      "cell_type": "code",
      "source": [
        "y_pred = BernoulliNBModel.predict(X_test)\n",
        "y_pred_prob = BernoulliNBModel.predict_proba(X_test)\n",
        "print('Predicted Value is : ' , y_pred)\n",
        "print('Prediction Probabilities Value is : ' , y_pred_prob)"
      ],
      "metadata": {
        "colab": {
          "base_uri": "https://localhost:8080/"
        },
        "id": "6xrXVQWJVZiG",
        "outputId": "cbc0ec02-7deb-4e41-cc35-e79691f1e8e7"
      },
      "execution_count": 125,
      "outputs": [
        {
          "output_type": "stream",
          "name": "stdout",
          "text": [
            "Predicted Value is :  [0 0 0 0 0 0 0 0 0 0 0 0 0 0 0 0 0 0 0 0 0 0 0 0 0 0 0 0 0 0 0 0 0 0 0 0 0\n",
            " 0 0 0 0 0 0 0 0 0 0 0 0 0 0 0 0 0 0 0 0 0 0 0 0 0 0 0 0 0 0 0 0 0 0 0 0 0\n",
            " 0 0 0 0 0 0]\n",
            "Prediction Probabilities Value is :  [[0.65686565 0.34313435]\n",
            " [0.65686565 0.34313435]\n",
            " [0.65686565 0.34313435]\n",
            " [0.65686565 0.34313435]\n",
            " [0.65686565 0.34313435]\n",
            " [0.65686565 0.34313435]\n",
            " [0.65686565 0.34313435]\n",
            " [0.65686565 0.34313435]\n",
            " [0.65686565 0.34313435]\n",
            " [0.65686565 0.34313435]\n",
            " [0.65686565 0.34313435]\n",
            " [0.65686565 0.34313435]\n",
            " [0.65686565 0.34313435]\n",
            " [0.65686565 0.34313435]\n",
            " [0.65686565 0.34313435]\n",
            " [0.65686565 0.34313435]\n",
            " [0.65686565 0.34313435]\n",
            " [0.65686565 0.34313435]\n",
            " [0.65686565 0.34313435]\n",
            " [0.65686565 0.34313435]\n",
            " [0.65686565 0.34313435]\n",
            " [0.65686565 0.34313435]\n",
            " [0.65686565 0.34313435]\n",
            " [0.65686565 0.34313435]\n",
            " [0.65686565 0.34313435]\n",
            " [0.65686565 0.34313435]\n",
            " [0.65686565 0.34313435]\n",
            " [0.65686565 0.34313435]\n",
            " [0.65686565 0.34313435]\n",
            " [0.65686565 0.34313435]\n",
            " [0.65686565 0.34313435]\n",
            " [0.65686565 0.34313435]\n",
            " [0.65686565 0.34313435]\n",
            " [0.65686565 0.34313435]\n",
            " [0.65686565 0.34313435]\n",
            " [0.65686565 0.34313435]\n",
            " [0.65686565 0.34313435]\n",
            " [0.65686565 0.34313435]\n",
            " [0.65686565 0.34313435]\n",
            " [0.65686565 0.34313435]\n",
            " [0.65686565 0.34313435]\n",
            " [0.65686565 0.34313435]\n",
            " [0.65686565 0.34313435]\n",
            " [0.65686565 0.34313435]\n",
            " [0.65686565 0.34313435]\n",
            " [0.65686565 0.34313435]\n",
            " [0.65686565 0.34313435]\n",
            " [0.65686565 0.34313435]\n",
            " [0.65686565 0.34313435]\n",
            " [0.65686565 0.34313435]\n",
            " [0.65686565 0.34313435]\n",
            " [0.65686565 0.34313435]\n",
            " [0.65686565 0.34313435]\n",
            " [0.65686565 0.34313435]\n",
            " [0.65686565 0.34313435]\n",
            " [0.65686565 0.34313435]\n",
            " [0.65686565 0.34313435]\n",
            " [0.65686565 0.34313435]\n",
            " [0.65686565 0.34313435]\n",
            " [0.65686565 0.34313435]\n",
            " [0.65686565 0.34313435]\n",
            " [0.65686565 0.34313435]\n",
            " [0.65686565 0.34313435]\n",
            " [0.65686565 0.34313435]\n",
            " [0.65686565 0.34313435]\n",
            " [0.65686565 0.34313435]\n",
            " [0.65686565 0.34313435]\n",
            " [0.65686565 0.34313435]\n",
            " [0.65686565 0.34313435]\n",
            " [0.65686565 0.34313435]\n",
            " [0.65686565 0.34313435]\n",
            " [0.65686565 0.34313435]\n",
            " [0.65686565 0.34313435]\n",
            " [0.65686565 0.34313435]\n",
            " [0.65686565 0.34313435]\n",
            " [0.65686565 0.34313435]\n",
            " [0.65686565 0.34313435]\n",
            " [0.65686565 0.34313435]\n",
            " [0.65686565 0.34313435]\n",
            " [0.65686565 0.34313435]]\n"
          ]
        }
      ]
    },
    {
      "cell_type": "code",
      "source": [
        "from sklearn.metrics import confusion_matrix\n",
        "print(confusion_matrix(y_test, y_pred))"
      ],
      "metadata": {
        "colab": {
          "base_uri": "https://localhost:8080/"
        },
        "id": "v38YtB8TVmY6",
        "outputId": "76b9cf1f-4f85-4b82-a73a-371d8dd8dab3"
      },
      "execution_count": 126,
      "outputs": [
        {
          "output_type": "stream",
          "name": "stdout",
          "text": [
            "[[48  0]\n",
            " [32  0]]\n"
          ]
        }
      ]
    },
    {
      "cell_type": "code",
      "source": [
        "CM = confusion_matrix(y_test, y_pred)"
      ],
      "metadata": {
        "id": "C-lGmCokWhnT"
      },
      "execution_count": 127,
      "outputs": []
    },
    {
      "cell_type": "code",
      "source": [
        "sns.heatmap(CM, center = True)\n",
        "plt.show()"
      ],
      "metadata": {
        "colab": {
          "base_uri": "https://localhost:8080/",
          "height": 265
        },
        "id": "4bF5GlFDVmbs",
        "outputId": "39fd0dfa-669b-4ef4-902b-54ab20ce7f25"
      },
      "execution_count": 128,
      "outputs": [
        {
          "output_type": "display_data",
          "data": {
            "text/plain": [
              "<Figure size 432x288 with 2 Axes>"
            ],
            "image/png": "[encoded data removed]"
          },
          "metadata": {
            "needs_background": "light"
          }
        }
      ]
    },
    {
      "cell_type": "code",
      "source": [
        "acc_test = accuracy_score(y_test, y_pred)\n",
        "print('the accuarcy of random forest model is :')\n",
        "print(acc_test)"
      ],
      "metadata": {
        "colab": {
          "base_uri": "https://localhost:8080/"
        },
        "id": "iN46XED9WoYX",
        "outputId": "e095435f-6e67-4002-abbc-61fd600d020a"
      },
      "execution_count": 129,
      "outputs": [
        {
          "output_type": "stream",
          "name": "stdout",
          "text": [
            "the accuarcy of random forest model is :\n",
            "0.6\n"
          ]
        }
      ]
    }
  ]
}